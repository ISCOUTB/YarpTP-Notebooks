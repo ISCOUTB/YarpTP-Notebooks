{
 "cells": [
  {
   "cell_type": "markdown",
   "metadata": {},
   "source": [
    "# Segundo reto - Estructuras de control de selección"
   ]
  },
  {
   "cell_type": "markdown",
   "metadata": {},
   "source": [
    "## 1. Contexto\n",
    "\n",
    "Juan sigue trabajando en su finca y Juan quiere seguir mejorando el recogido de sus frutos a través de su robot amigo Kevi para identificar todos los frutos que pueda recoger en su alrededor. Juan descubrió que la manera mas efectiva de realizar esta tarea es teniendo en control de todos los movimientos de Kevi.\n",
    "\n",
    "No obstante, Juan tiene la inquietud de ¿como poder controlar los movimientos de Kevi mediante YarpTp obteniendo las funcionalidades de moverse hacia adelate, hacia atras, hacia la derecha y hacia la izquierda?\n",
    "\n",
    "## 2. Resultado esperado\n",
    "\n",
    "Lograr controlar los movimientos de Kevi.\n",
    "\n",
    "## 3. Resultados de aprendizaje\n",
    " \n",
    " * Aprender sobre el uso de estructuras de control de selección.\n",
    " \n",
    "## 4. Historias de usuario\n",
    "\n",
    "\n",
    "* HU03: Tablero de control de movimientos\n",
    "    - Como Kevi\n",
    "    - Quiero tener un tablero de control\n",
    "    - Para el manejo de los movimientos\n",
    "* HU04: Movimientos hacia una dirección\n",
    "    - Como Kevi\n",
    "    - Quiero moverme hacia adelante una cantidad x de segundos\n",
    "    - Quiero moverme hacia atras una cantidad x de segundos\n",
    "    - Quiero moverme hacia la derecha una cantidad x de segundos\n",
    "    - Quiero moverme hacia la izquierda una cantidad x de segundos\n",
    "    - Para alcanzar un objetivo\n",
    "\n",
    "    \n",
    "##  5. Datos, información, estructuras de control de selección y estructuras de datos\n",
    "\n",
    "Para dar solución a este caso, debemos analizar los datos a utilizar, es conveniente seleccionar los datos en (datos de entrada y datos de salida):\n",
    "\n",
    "### Datos de entrada: \n",
    "\n",
    "* Dirección de desplazamiento\n",
    "* Tiempo de desplazamiento\n",
    "\n",
    "### Procedimiento para definir condiciones:\n",
    "\n",
    "Para definir condicionales usamos la estructura selectiva **if**(condicion principal), opcionalmente **elif**(condiciones adicionales) y **else**(si no se ha cumplio ninguna de las anteriores, sólo se puede poner una vez y al final).\n",
    "\n",
    "Colocamos la palabra reservada **if** luego una condición(expresión booleana que devuelve True o False), en caso de cumplise, se ejecutará el codigo identado debajo de la sentencia. De lo contrario, el bloque no es ejecutado. Si necesitamos añadir más condiciones, usamos el comando **elif** (podemos tener tantos **elif** como sean necesarios) luego del **if**. Si la condición **if** no se cumple, la evaluación pasara al **elif**. Si existe un bloque **else** y si las condicciónes no se cumplen, se ejecutará este bloque.\n",
    "\n",
    "#### Condiciones\n",
    "\n",
    "para contruir condiciones usamos los operadores de comparación:\n",
    "\n",
    "    x == y  x es igual a y\n",
    "    x != y  x no es igual a y\n",
    "    x > y   x es mayor que y\n",
    "    x < y   x es menor que y\n",
    "    x >= y  x es mayor o igual que y\n",
    "    x <= y  x es menor que y\n",
    "\n",
    "Ademas de los operadores de comparación, tenemos los operadores logicos **AND**, **OR** y **NOT**. El significado de estos operadores es similar a sus significados en ingles( en español  'y', 'o' y 'no'). Los cuales, nos ayudan a combinar expresiones booleanas.\n",
    "\n",
    "**AND**: Al ser usado, la operación dará como respuesta verdadero(True) solo si ambas expresiones son verdaderas.\n",
    "\n",
    "**OR**: La operación dará como respuesta verdadero(True) si almenos una de las expresiones es verdadera.\n",
    "\n",
    "**NOT**: Inverte la condición de la expresion. Si la expresion era verdadera(True), mediante la operador NOT cambia a falso(False)."
   ]
  },
  {
   "cell_type": "code",
   "execution_count": null,
   "metadata": {},
   "outputs": [],
   "source": [
    "if(condicion):\n",
    " \n",
    "    # Bloque de sentencias 1.\n",
    "    \n",
    "elif(condicion adicional):\n",
    "   \n",
    "    # Bloque de sentencias 2.\n",
    "\n",
    "else:\n",
    "    \n",
    "    # Bloque de sentencias else."
   ]
  },
  {
   "cell_type": "markdown",
   "metadata": {},
   "source": [
    "\n",
    "\n",
    "## 6. Estrategia de solución:\n",
    "A continuación damos solución al problema teniendo en cuenta las etapas necesarias para el Ciclo de vida de Software\n",
    "\n",
    "### A. Análisis:\n",
    "En esta etapa se debe comprender de forma detallada cual es la problemática a resolver, comprobando el dominio o contexto en el cual se encuentra dicho problema. Al realizar la síntesis de las estructuras de datos y los requerimiento funcionales se está obteniendo la información necesaria y suficiente para afrontar su respectiva solución.\n",
    "\n",
    "### B. Diseño:\n",
    "Después de obtener la información necesaria para solucionar la problemática a resolver, se debe especificar las estrategias para dar una solución eficiente.\n",
    "\n",
    "A continuación se encuentran el conjunto de actividades para dar solución al problema planteado.\n"
   ]
  },
  {
   "cell_type": "code",
   "execution_count": null,
   "metadata": {},
   "outputs": [],
   "source": [
    "direccion = input(\"Ingrese la dirección de desplazamiento:\")"
   ]
  },
  {
   "cell_type": "code",
   "execution_count": null,
   "metadata": {},
   "outputs": [],
   "source": [
    "# El dato digitado es almacenado en la variable tiempo.\n",
    "\n",
    "tiempo = input(\"Ingrese el tiempo de desplazamiento:\")"
   ]
  },
  {
   "cell_type": "markdown",
   "metadata": {},
   "source": [
    "Después de capturar los datos de entrada y almacenados en sus respectivas variables se procederá a las operaciones teniendo en cuenta el enunciado:\n",
    "\n",
    ">  Mover el robot en una determinada dirección y por un tiempo determinado.\n",
    "\n",
    "Para la realización de esta tarea haremos uso de los componentes de la libreria de YarpTp."
   ]
  },
  {
   "cell_type": "code",
   "execution_count": null,
   "metadata": {},
   "outputs": [],
   "source": [
    "from YarpTp import YarpTp\n",
    "Y = YarpTp()"
   ]
  },
  {
   "cell_type": "markdown",
   "metadata": {},
   "source": [
    "Para el movimiento hacia adelante tenemos **Forward(tiempo, velocidad)**."
   ]
  },
  {
   "cell_type": "code",
   "execution_count": null,
   "metadata": {},
   "outputs": [],
   "source": [
    "Y.Forward(tiempo)"
   ]
  },
  {
   "cell_type": "markdown",
   "metadata": {
    "collapsed": true
   },
   "source": [
    "para el movimiento hacia atras tenemos **Reverse(tiempo, velocidad)**."
   ]
  },
  {
   "cell_type": "code",
   "execution_count": null,
   "metadata": {},
   "outputs": [],
   "source": [
    "Y.Reverse(tiempo)"
   ]
  },
  {
   "cell_type": "markdown",
   "metadata": {},
   "source": [
    "para giros hacia la derecha tenemos **TurnRight(tiempo)**."
   ]
  },
  {
   "cell_type": "code",
   "execution_count": null,
   "metadata": {},
   "outputs": [],
   "source": [
    "Y.TurnRight(tiempo)"
   ]
  },
  {
   "cell_type": "markdown",
   "metadata": {},
   "source": [
    "Para giros hacia la izquierda tenemos **TurnLeft(tiempo)**."
   ]
  },
  {
   "cell_type": "code",
   "execution_count": null,
   "metadata": {},
   "outputs": [],
   "source": [
    "Y.TurnLeft(tiempo)"
   ]
  },
  {
   "cell_type": "markdown",
   "metadata": {},
   "source": [
    "Como podemos notar, se recibe como parametro el dato **tiempo** ingresado con anterioridad. \n",
    "\n",
    "Para este ejercicio trabajaremos con la velocidad predeterminada de estos metodos. De tal modo que, no será necesario declarar el parametro velocidad.\n",
    "\n",
    "Nota: si queremos establecer una velocidad diferente, declaramos el parametro colocando el valor medido entre 0 a 100. Para el caso de los metodos TurnRight() y TurnLeft() cambiamos los metodos por ForwardMotorL(tiempo,velocidad) y ForwardMotorR(tiempo,velocidad) los cuales nos permiten ingresar la velocidad de desplazamiento."
   ]
  },
  {
   "cell_type": "markdown",
   "metadata": {},
   "source": [
    "### C. Implementación:"
   ]
  },
  {
   "cell_type": "markdown",
   "metadata": {},
   "source": [
    "La implementación de este reto y la solución para la **HU03** seria:"
   ]
  },
  {
   "cell_type": "code",
   "execution_count": null,
   "metadata": {},
   "outputs": [],
   "source": [
    "print(\"--- TABLERO DE CONTROL ---\")\n",
    "print(\"(W) Mover hacia adelante.\")\n",
    "print(\"(S) Mover hacia atras.\")\n",
    "print(\"(D) Mover hacia la derecha.\")\n",
    "print(\"(A) Mover hacia la izquierda.\")\n",
    "print(\"--------------------------\")"
   ]
  },
  {
   "cell_type": "markdown",
   "metadata": {},
   "source": [
    "Y la solucion para la historia de usuario **HU04** seria:"
   ]
  },
  {
   "cell_type": "code",
   "execution_count": null,
   "metadata": {},
   "outputs": [],
   "source": [
    "from YarpTp import YarpTp\n",
    "\n",
    "Y = YarpTp()\n",
    "\n",
    "direccion = input(\"Ingrese la dirección de desplazamiento:\")\n",
    "\n",
    "tiempo = input(\"Ingrese el tiempo de desplazamiento:\")\n",
    "\n",
    "if direccion == \"W\" or direccion == \"w\":\n",
    "\n",
    "    Y.Forward(tiempo)\n",
    "\n",
    "elif direccion == \"S\" or direccion == \"s\":\n",
    "\n",
    "    Y.Reverse(tiempo)\n",
    "\n",
    "elif direccion == \"D\" or direccion == \"d\":\n",
    "\n",
    "    Y.TurnRight(tiempo)\n",
    "\n",
    "elif direccion == \"A\" or direccion == \"a\":\n",
    "\n",
    "    Y.TurnLeft(tiempo)\n",
    "\n",
    "else:\n",
    "\n",
    "    print(\"Error: Ingrese una dirección valida.\")\n"
   ]
  },
  {
   "cell_type": "markdown",
   "metadata": {},
   "source": [
    "Ahora, la implementación completa:"
   ]
  },
  {
   "cell_type": "code",
   "execution_count": null,
   "metadata": {},
   "outputs": [],
   "source": [
    "from YarpTp import YarpTp\n",
    "\n",
    "print(\"--- TABLERO DE CONTROL ---\")\n",
    "print(\"(W) Mover hacia adelante.\")\n",
    "print(\"(S) Mover hacia atras.\")\n",
    "print(\"(D) Mover hacia la derecha.\")\n",
    "print(\"(A) Mover hacia la izquierda.\")\n",
    "print(\"--------------------------\")\n",
    "\n",
    "Y = YarpTp()\n",
    "\n",
    "direccion = input(\"Ingrese la dirección de desplazamiento:\")\n",
    "\n",
    "tiempo = input(\"Ingrese el tiempo de desplazamiento:\")\n",
    "\n",
    "if direccion == \"W\" or direccion == \"w\":\n",
    "\n",
    "    Y.Forward(tiempo)\n",
    "\n",
    "elif direccion == \"S\" or direccion == \"s\":\n",
    "\n",
    "    Y.Reverse(tiempo)\n",
    "\n",
    "elif direccion == \"D\" or direccion == \"d\":\n",
    "\n",
    "    Y.TurnRight(tiempo)\n",
    "\n",
    "elif direccion == \"A\" or direccion == \"a\":\n",
    "\n",
    "    Y.TurnLeft(tiempo)\n",
    "\n",
    "else:\n",
    "\n",
    "    print(\"Error: Ingrese una dirección valida.\")\n",
    "    "
   ]
  },
  {
   "cell_type": "markdown",
   "metadata": {},
   "source": [
    "**Nota:** En una proxima lección mejoraremos el funcionamiento de este tablero de control."
   ]
  },
  {
   "cell_type": "markdown",
   "metadata": {},
   "source": [
    "### D. Pruebas:\n",
    "Después de codificar las actividades y/o procesos en la la herramienta computacional seleccionada, es necesario realizar la debidas pruebas que garanticen el correcto funcionamiento del programa construido bajo un conjunto de situaciones posibles a las que se pueda enfrentar."
   ]
  },
  {
   "cell_type": "markdown",
   "metadata": {
    "collapsed": true
   },
   "source": [
    "<table>\n",
    "<tr>\n",
    "<th>Dirección de desplazamiento</th>\n",
    "<th>Tiempos de desplazamiento(sg)</th>\n",
    "</tr>\n",
    "<tr>\n",
    "<td>W</td>\n",
    "<td>2.0</td>\n",
    "</tr>\n",
    "<tr>\n",
    "<td>S</td>\n",
    "<td>1.0</td>\n",
    "</tr>\n",
    "<tr>\n",
    "<td>D</td>\n",
    "<td>0.5</td>\n",
    "</tr>\n",
    "<tr>\n",
    "<td>A</td>\n",
    "<td>3.0</td>\n",
    "</tr>\n",
    "</table>"
   ]
  }
 ],
 "metadata": {
  "kernelspec": {
   "display_name": "Python 3",
   "language": "python",
   "name": "python3"
  },
  "language_info": {
   "codemirror_mode": {
    "name": "ipython",
    "version": 3
   },
   "file_extension": ".py",
   "mimetype": "text/x-python",
   "name": "python",
   "nbconvert_exporter": "python",
   "pygments_lexer": "ipython3",
   "version": "3.7.0"
  }
 },
 "nbformat": 4,
 "nbformat_minor": 2
}
