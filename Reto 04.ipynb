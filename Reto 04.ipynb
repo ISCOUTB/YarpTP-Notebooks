{
 "cells": [
  {
   "cell_type": "markdown",
   "metadata": {},
   "source": [
    "# Cuarto reto - Uso de listas"
   ]
  },
  {
   "cell_type": "markdown",
   "metadata": {},
   "source": [
    "## 1. Cotexto\n",
    "\n",
    "Juan disfruta mucho trabajar con su amigo robot Kevi recogiendo frutos en su finca. A Juan le ha ido tan bien con Kevi que decidió ampliar su huerto y ahora cuenta con mas arboles con variedad de frutos. Debido a esto, Juan está pensando en una nueva manera de controlar a Kevi para facilitar la tarea de recolección.\n",
    "\n",
    "A Juan se le ocurrió automatizar los movimientos de Kevi para que vaya al huerto, otenga los frutos y vaya a las bodegas. Pero, ¿como puede Juan realizar estas mejoras a Kevi?\n",
    "\n",
    "## 2. Resultado esperado\n",
    "\n",
    "Lograr que Kevi realice una serie de instrucciones.\n",
    "\n",
    "## 3. Resultados de aprendizaje\n",
    " \n",
    " * Aprender sobre el uso de listas.\n",
    "\n",
    "\n",
    "## 4. Historias de usuario\n",
    "\n",
    "* HU07: Automatizar movimientos\n",
    "    - Como Kevi\n",
    "    - Quiero realizar un numero determinado de movimientos\n",
    "    - Para alcanzar un objetivo\n",
    " \n",
    "##  5. Datos, información, listas y estructuras de datos\n",
    "\n",
    "Para dar solución a este caso, debemos analizar los datos a utilizar, es conveniente seleccionar los datos en (datos de entrada y datos de salida):\n",
    "\n",
    "### Datos de entrada: \n",
    "\n",
    "* Dirección de desplazamiento\n",
    "* Tiempo de desplazamiento\n",
    "\n",
    "### Procedimiento para definir una Lista:\n",
    " \n",
    "Para definir la estructura de datos **Lista**, que nos permite almacenar cualquier tipo de valor como enteros, cadenas y hasta otras funciones. Hacemos lo siguiente:"
   ]
  },
  {
   "cell_type": "code",
   "execution_count": null,
   "metadata": {
    "collapsed": true
   },
   "outputs": [],
   "source": [
    "lista = []"
   ]
  },
  {
   "cell_type": "markdown",
   "metadata": {},
   "source": [
    "Se caracteriza porque los elementos están entre corchetes y separados por una coma. Ejemplo:"
   ]
  },
  {
   "cell_type": "code",
   "execution_count": null,
   "metadata": {
    "collapsed": true
   },
   "outputs": [],
   "source": [
    "Lista =[4.5,\"un texto\",[\"lista dentro de lista\",True],10]"
   ]
  },
  {
   "cell_type": "markdown",
   "metadata": {},
   "source": [
    "Para poder acceder a un elemento de la lista lo hacemos mediante su indice:"
   ]
  },
  {
   "cell_type": "code",
   "execution_count": null,
   "metadata": {
    "collapsed": true
   },
   "outputs": [],
   "source": [
    "lista[0] # 4.5\n",
    "lista[1] # \"un texto\"\n",
    "lista[2] # [\"lista dentro de lista\",True]\n",
    "lista[3] # 10"
   ]
  },
  {
   "cell_type": "markdown",
   "metadata": {},
   "source": [
    "### Agregar elemento a una lista: ###\n",
    "\n",
    "para agregar un elemento a una lista, usamos el metodo **append()**."
   ]
  },
  {
   "cell_type": "code",
   "execution_count": null,
   "metadata": {
    "collapsed": true
   },
   "outputs": [],
   "source": [
    "lista.append() # Dentro de los paréntesis se coloca el elemento a agregar."
   ]
  },
  {
   "cell_type": "markdown",
   "metadata": {},
   "source": [
    "### Remover elemento de una lista:###\n",
    "\n",
    "para remover un elemento de una lista, usamos el metodo **remove()**."
   ]
  },
  {
   "cell_type": "code",
   "execution_count": null,
   "metadata": {
    "collapsed": true
   },
   "outputs": [],
   "source": [
    "lista.remove() # Dentro de los paréntesis se coloca el indice del elemento a eliminar"
   ]
  },
  {
   "cell_type": "markdown",
   "metadata": {},
   "source": [
    "### Indice de un elemento en una lista:###"
   ]
  },
  {
   "cell_type": "markdown",
   "metadata": {},
   "source": [
    "para conocer el indice de un elemento en una lista usamos **index()**."
   ]
  },
  {
   "cell_type": "code",
   "execution_count": null,
   "metadata": {
    "collapsed": true
   },
   "outputs": [],
   "source": [
    "# Dentro de los paréntesis colocamos el elemento para conocer su indice en la lista \n",
    "lista.index(\"un texto\") # 1"
   ]
  },
  {
   "cell_type": "markdown",
   "metadata": {
    "collapsed": true
   },
   "source": [
    "### Numero de elementos en una lista:###\n",
    "\n",
    "Para contar la cantidad de elementos en una lista usamos **len()**."
   ]
  },
  {
   "cell_type": "code",
   "execution_count": null,
   "metadata": {
    "collapsed": true
   },
   "outputs": [],
   "source": [
    "len(lista) # 4"
   ]
  },
  {
   "cell_type": "markdown",
   "metadata": {},
   "source": [
    "Existen muchos otros metodos para trabajar con listas, los anteriores mencionados son los principalmente usados."
   ]
  },
  {
   "cell_type": "markdown",
   "metadata": {},
   "source": [
    "### Recorrer elementos de una lista: ###\n",
    "\n",
    "Para recorrer los elementos de una lista podemos usar estructura de control iterativa **for** de la siguiente manera:"
   ]
  },
  {
   "cell_type": "code",
   "execution_count": null,
   "metadata": {
    "collapsed": true
   },
   "outputs": [],
   "source": [
    "for i in range(len(lista)):\n",
    "    lista[i]    "
   ]
  },
  {
   "cell_type": "markdown",
   "metadata": {},
   "source": [
    "Otra forma seria:"
   ]
  },
  {
   "cell_type": "code",
   "execution_count": null,
   "metadata": {
    "collapsed": true
   },
   "outputs": [],
   "source": [
    "for elemento in lista:\n",
    "    elemento"
   ]
  },
  {
   "cell_type": "markdown",
   "metadata": {},
   "source": [
    "## 6. Estrategia de solución:\n",
    "A continuación damos solución al problema teniendo en cuenta las etapas necesarias para el Ciclo de vida de Software\n",
    "\n",
    "### A. Análisis:\n",
    "En esta etapa se debe comprender de forma detallada cual es la problemática a resolver, comprobando el dominio o contexto en el cual se encuentra dicho problema. Al realizar la síntesis de las estructuras de datos y los requerimiento funcionales se está obteniendo la información necesaria y suficiente para afrontar su respectiva solución.\n",
    "\n",
    "### B. Diseño:\n",
    "Después de obtener la información necesaria para solucionar la problemática a resolver, se debe especificar las estrategias para dar una solución eficiente.\n",
    "\n",
    "A continuación se encuentran el conjunto de actividades para dar solución al problema planteado."
   ]
  },
  {
   "cell_type": "code",
   "execution_count": null,
   "metadata": {
    "collapsed": true
   },
   "outputs": [],
   "source": [
    "print(\"--- TABLERO DE CONTROL ---\")\n",
    "print(\"(W) Mover hacia adelante.\")\n",
    "print(\"(S) Mover hacia atras.\")\n",
    "print(\"(D) Mover hacia la derecha.\")\n",
    "print(\"(A) Mover hacia la izquierda.\")\n",
    "print(\"--------------------------\")\n",
    "\n",
    "numero = int(input(\"ingrese la cantidad de movimientos a realizar:\"))"
   ]
  },
  {
   "cell_type": "code",
   "execution_count": null,
   "metadata": {
    "collapsed": true
   },
   "outputs": [],
   "source": [
    "# El dato digidato teniendo en cuenta el menu de opciones W, S, D y A será almacenado en la variable dirección.\n",
    "\n",
    "movimiento = input(\"Ingrese la dirección de desplazamiento:\")"
   ]
  },
  {
   "cell_type": "code",
   "execution_count": null,
   "metadata": {
    "collapsed": true
   },
   "outputs": [],
   "source": [
    "# El dato digitado es almacenado en la variable tiempo. Nota: el tiempo es ingresado como valor decimal.\n",
    "\n",
    "duracion = input(\"Ingrese el tiempo de desplazamiento:\")"
   ]
  },
  {
   "cell_type": "code",
   "execution_count": null,
   "metadata": {
    "collapsed": true
   },
   "outputs": [],
   "source": [
    "Lista_movimientos = [] # almacenará los movimientos a realizar.\n",
    "lista_tiempos = [] # almacenará los tiempos de ejecución de cada movimiento."
   ]
  },
  {
   "cell_type": "markdown",
   "metadata": {},
   "source": [
    "Después de capturar los datos de entrada y almacenados en sus respectivas variables se procederá a las operaciones teniendo en cuenta el enunciado:\n",
    "\n",
    ">  almacenar un numero determinado de movimientos para luego ser ejecutados.\n",
    "\n",
    "Para la realización de esta tarea haremos uso de los componentes de la libreria de YarpTp."
   ]
  },
  {
   "cell_type": "code",
   "execution_count": null,
   "metadata": {
    "collapsed": true
   },
   "outputs": [],
   "source": [
    "from YarpTp import YarpTp\n",
    "Y = YarpTp()"
   ]
  },
  {
   "cell_type": "markdown",
   "metadata": {},
   "source": [
    "Para el movimiento hacia adelante tenemos **Forward(tiempo, velocidad)**."
   ]
  },
  {
   "cell_type": "code",
   "execution_count": null,
   "metadata": {
    "collapsed": true
   },
   "outputs": [],
   "source": [
    "Y.Forward(tiempo)"
   ]
  },
  {
   "cell_type": "markdown",
   "metadata": {},
   "source": [
    "para el movimiento hacia atras tenemos **Reverse(tiempo, velocidad)**."
   ]
  },
  {
   "cell_type": "code",
   "execution_count": null,
   "metadata": {
    "collapsed": true
   },
   "outputs": [],
   "source": [
    "Y.Reverse(tiempo)"
   ]
  },
  {
   "cell_type": "markdown",
   "metadata": {},
   "source": [
    "para giros hacia la derecha tenemos **TurnRight(tiempo)**."
   ]
  },
  {
   "cell_type": "code",
   "execution_count": null,
   "metadata": {},
   "outputs": [],
   "source": [
    "Y.TurnRight(tiempo)"
   ]
  },
  {
   "cell_type": "markdown",
   "metadata": {},
   "source": [
    "Para giros hacia la izquierda tenemos **TurnLeft(tiempo)**."
   ]
  },
  {
   "cell_type": "code",
   "execution_count": null,
   "metadata": {
    "collapsed": true
   },
   "outputs": [],
   "source": [
    "Y.TurnLeft(tiempo)"
   ]
  },
  {
   "cell_type": "markdown",
   "metadata": {},
   "source": [
    "Como podemos notar, se recibe como parametro el dato **tiempo** ingresado con anterioridad. \n",
    "\n",
    "Para este ejercicio trabajaremos con la velocidad predeterminada de estos metodos. De tal modo que, no será necesario declarar el parametro velocidad."
   ]
  },
  {
   "cell_type": "markdown",
   "metadata": {},
   "source": [
    "### C. Implementación:\n",
    "\n",
    "La solución al reto plantedo y a la historia de usuario **HU07** es:"
   ]
  },
  {
   "cell_type": "code",
   "execution_count": 12,
   "metadata": {},
   "outputs": [
    {
     "name": "stdout",
     "output_type": "stream",
     "text": [
      "--- TABLERO DE CONTROL ---\n",
      "(W) Mover hacia adelante.\n",
      "(S) Mover hacia atras.\n",
      "(D) Mover hacia la derecha.\n",
      "(A) Mover hacia la izquierda.\n",
      "--------------------------\n",
      "ingrese la cantidad de movimientos a realizar:7\n",
      "Ingrese la dirección de desplazamiento:w\n",
      "Ingrese el tiempo de desplazamiento:1.5\n",
      "Ingrese la dirección de desplazamiento:d\n",
      "Ingrese el tiempo de desplazamiento:0.5\n",
      "Ingrese la dirección de desplazamiento:w\n",
      "Ingrese el tiempo de desplazamiento:1.5\n",
      "Ingrese la dirección de desplazamiento:d\n",
      "Ingrese el tiempo de desplazamiento:0.5\n",
      "Ingrese la dirección de desplazamiento:w\n",
      "Ingrese el tiempo de desplazamiento:1.5\n",
      "Ingrese la dirección de desplazamiento:d\n",
      "Ingrese el tiempo de desplazamiento:0.5\n",
      "Ingrese la dirección de desplazamiento:w\n",
      "Ingrese el tiempo de desplazamiento:1.5\n",
      "Finalizado!\n"
     ]
    }
   ],
   "source": [
    "from YarpTp import YarpTp\n",
    "\n",
    "Y = YarpTp()\n",
    "print(\"--- TABLERO DE CONTROL ---\")\n",
    "print(\"(W) Mover hacia adelante.\")\n",
    "print(\"(S) Mover hacia atras.\")\n",
    "print(\"(D) Mover hacia la derecha.\")\n",
    "print(\"(A) Mover hacia la izquierda.\")\n",
    "print(\"--------------------------\")\n",
    "\n",
    "numero = input(\"ingrese la cantidad de movimientos a realizar:\")\n",
    "\n",
    "lista_movimientos = []\n",
    "lista_tiempos = []\n",
    "\n",
    "for i in range(numero):\n",
    "\n",
    "    movimiento = input(\"Ingrese la dirección de desplazamiento:\")\n",
    "    lista_movimientos.append(movimiento)\n",
    "\n",
    "    duracion = input(\"Ingrese el tiempo de desplazamiento:\")\n",
    "    lista_tiempos.append(duracion)\n",
    "\n",
    "for i in range(numero):\n",
    "\n",
    "    direccion = lista_movimientos[i]\n",
    "    tiempo = lista_tiempos[i]\n",
    "\n",
    "    if direccion == \"W\"  or  direccion == \"w\":\n",
    "\n",
    "        Y.Forward(tiempo)\n",
    "\n",
    "    elif direccion == \"S\" or direccion == \"s\":\n",
    "\n",
    "        Y.Reverse(tiempo)\n",
    "\n",
    "    elif direccion == \"D\"  or  direccion == \"d\":\n",
    "\n",
    "        Y.TurnRight(tiempo)\n",
    "\n",
    "    elif direccion == \"A\" or direccion == \"a\":\n",
    "\n",
    "        Y.TurnLeft(tiempo)\n",
    "\n",
    "    else:\n",
    "\n",
    "        print(\"Error: Ingrese una dirección valida.\")\n",
    "\n",
    "print(\"Finalizado!\")"
   ]
  },
  {
   "cell_type": "markdown",
   "metadata": {},
   "source": [
    "Una función puede ser llamada desde cualquier parte del código si está previamente definida."
   ]
  },
  {
   "cell_type": "markdown",
   "metadata": {},
   "source": [
    "### D. Pruebas:\n",
    "Después de codificar las actividades y/o procesos en la la herramienta computacional seleccionada, es necesario realizar la debidas pruebas que garanticen el correcto funcionamiento del programa construido bajo un conjunto de situaciones posibles a las que se pueda enfrentar."
   ]
  },
  {
   "cell_type": "markdown",
   "metadata": {},
   "source": [
    "<table>\n",
    "<tr>\n",
    "<th>Numero de movimientos</th>\n",
    "<th>Movimientos</th>\n",
    "<th>Tiempos de desplazamiento(sg)</th>\n",
    "</tr>\n",
    "<tr>\n",
    "<td rowspan=\"3\"><center>3</center></td>\n",
    "<td>W</td>\n",
    "<td>1.0</td>\n",
    "</tr>\n",
    "<tr>\n",
    "<td>A</td>\n",
    "<td>0.7</td>\n",
    "</tr>\n",
    "<tr>\n",
    "<td>w</td>\n",
    "<td>1.0</td>\n",
    "</tr>\n",
    "<tr>\n",
    "<td rowspan=\"2\"><center>2</center></td>\n",
    "<td>S</td>\n",
    "<td>1.5</td>\n",
    "</tr>\n",
    "<tr>\n",
    "<td>D</td>\n",
    "<td>4.0</td>\n",
    "</tr>\n",
    "<tr>\n",
    "<td rowspan=\"7\"><center>7</center></td>\n",
    "<td>W</td>\n",
    "<td>1.5</td>\n",
    "</tr>\n",
    "<tr>\n",
    "<td>D</td>\n",
    "<td>0.5</td>\n",
    "</tr>\n",
    "<tr>\n",
    "<td>W</td>\n",
    "<td>1.5</td>\n",
    "</tr>\n",
    "<tr>\n",
    "<td>D</td>\n",
    "<td>0.5</td>\n",
    "</tr>\n",
    "<tr>\n",
    "<td>W</td>\n",
    "<td>1.5</td>\n",
    "</tr>\n",
    "<tr>\n",
    "<td>D</td>\n",
    "<td>0.5</td>\n",
    "</tr>\n",
    "<tr>\n",
    "<td>W</td>\n",
    "<td>1.5</td>\n",
    "</tr>\n",
    "</table>"
   ]
  }
 ],
 "metadata": {
  "kernelspec": {
   "display_name": "Python 3",
   "language": "python",
   "name": "python3"
  },
  "language_info": {
   "codemirror_mode": {
    "name": "ipython",
    "version": 3
   },
   "file_extension": ".py",
   "mimetype": "text/x-python",
   "name": "python",
   "nbconvert_exporter": "python",
   "pygments_lexer": "ipython3",
   "version": "3.7.0"
  }
 },
 "nbformat": 4,
 "nbformat_minor": 2
}
