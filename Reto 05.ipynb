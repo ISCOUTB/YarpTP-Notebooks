{
 "cells": [
  {
   "cell_type": "markdown",
   "metadata": {},
   "source": [
    "# Quinto reto - Aplicando conceptos."
   ]
  },
  {
   "cell_type": "markdown",
   "metadata": {},
   "source": [
    " ## 1. Contexto\n",
    "\n",
    "Con la finalidad de poner en practica los conceptos aprendidos en los retos anteriores, construya un software con el que puedas controlar los movimientos de Kevi; permitiendo determinar su tiempo de desplazamiento y velocidad. Ademas, debe mostrarse en pantalla un mensaje del movimiento que se esté realizando, ejemplo: \"Moviendo hacia adelante\", alfinalizar los movimientos el mensaje: \"Finalizado exitosamente!\" y el tiempo total de desplazamiento, ejemplo: \"El robot se movió 10 segundos\".\n",
    "\n",
    "## 2. Resultado esperado\n",
    "\n",
    "Lograr controlar los movimientos de Kevi obteniendo respuestas en cada una de sus ejecuciones.\n",
    "\n",
    "## 3. Resultados de aprendizaje\n",
    " \n",
    " * Poner en practica los conocimientos aprendidos en los retos previos.\n",
    " \n",
    "## 4. Historias de usuario\n",
    "\n",
    "* HU08: Movimiento hacia una dirección\n",
    "    - Como Kevi\n",
    "    - Quiero moverme hacia una dirección una cantidad x de segundos\n",
    "    - total de los movimientos\n",
    "    - Para alcanzar un objetivo\n",
    "\n",
    "* HU09: Mensaje en pantalla\n",
    "    - Como Kevi\n",
    "    - Quiero mostrar un mensaje del movimiento en ejecución\n",
    "    - Quiero mostrar un mensaje con el tiempo de ejecución\n",
    "\n",
    "##  5. Datos, información y estructuras de datos\n",
    "\n",
    "Para dar solución a este caso, debemos analizar los datos a utilizar, es conveniente seleccionar los datos en (datos de entrada y datos de salida):\n",
    "\n",
    "### Datos de entrada: \n",
    "\n",
    "¿Cuales serian nuestros datos de entrada?\n",
    "\n",
    "Se consideran datos de entrada porque es información necesaria para realizar los procedimientos que permiten entregar la solución esperada o el resultado esperado. Para poder manipular estos datos en un Algoritmo o en un Programa de computador, es necesario definir las variables en donde se almacenarán los datos.\n",
    "\n",
    "### Datos de salida:\n",
    "\n",
    "¿Cuales serian nuestros datos de salida?\n",
    "\n",
    "Se consideran datos de salida porque se determinan a partir de los datos de entrada y son resultados de procedimientos y operaciones. Para poder manipular estos datos en un Algoritmo o en un Programa de computador, es necesario definir las variables en donde se almacenarán los datos.\n",
    "\n",
    "\n",
    "## 4. REQUERIMIENTOS INSTRUCCIONALES:\n",
    "A continuación damos solución al problema teniendo en cuenta las etapas necesarias para el Ciclo de vida de Software\n",
    "\n",
    "## Etapas\n",
    "\n",
    "### A. Análisis:\n",
    "En esta etapa se debe comprender de forma detallada cual es la problemática a resolver, comprobando el dominio o contexto en el cual se encuentra dicho problema. Al realizar la síntesis de las estructuras de datos y los requerimiento funcionales se está obteniendo la información necesaria y suficiente para afrontar su respectiva solución.\n",
    "\n",
    "### B. Diseño:\n",
    "Después de obtener la información necesaria para solucionar la problemática a resolver, se debe especificar las estrategias para dar una solución eficiente.\n",
    "\n",
    "A continuación se encuentran el conjunto de actividades para dar solución al problema planteado."
   ]
  },
  {
   "cell_type": "code",
   "execution_count": null,
   "metadata": {
    "collapsed": true
   },
   "outputs": [],
   "source": [
    "# El dato digidato teniendo en cuenta el menu de opciones que usted determine será almacenado en la variable dirección.\n",
    "\n",
    "direccion = input(\"Ingrese la dirección de desplazamiento:\")"
   ]
  },
  {
   "cell_type": "code",
   "execution_count": null,
   "metadata": {
    "collapsed": true
   },
   "outputs": [],
   "source": [
    "# El dato digitado es almacenado en la variable tiempo. Nota: el tiempo es ingresado como valor decimal.\n",
    "\n",
    "tiempo = input(\"Ingrese el tiempo de desplazamiento:\")"
   ]
  },
  {
   "cell_type": "code",
   "execution_count": null,
   "metadata": {
    "collapsed": true
   },
   "outputs": [],
   "source": [
    "# Se almacena la velocidad de desplazamiento en la variable velocidad.  Nota: la velocidad es ingresada como valor entero.\n",
    "\n",
    "velocidad = input(\"Ingrese la velocidad de desplazamiento:\")"
   ]
  },
  {
   "cell_type": "markdown",
   "metadata": {},
   "source": [
    "Después de capturar los datos de entrada y almacenados en sus respectivas variables se procederá a las operaciones teniendo en cuenta el enunciado:\n",
    "\n",
    ">  controlar los movimientos del robot; permitiendo determinar su tiempo de desplazamiento y velocidad. Ademas, debe mostrarse en pantalla un mensaje del movimiento que se esté realizando, alfinalizar los movimientos el mensaje: \"Finalizado exitosamente!\" y el tiempo total de desplazamiento.\n",
    "\n",
    "Para la realización de esta tarea haremos uso de los componentes de la liberia de YarpTp."
   ]
  },
  {
   "cell_type": "code",
   "execution_count": null,
   "metadata": {
    "collapsed": true
   },
   "outputs": [],
   "source": [
    "from YarpTp import YarpTp\n",
    "Y = YarpTp()"
   ]
  },
  {
   "cell_type": "markdown",
   "metadata": {},
   "source": [
    "Para el movimiento hacia adelante tenemos **Forward(tiempo, velocidad)** que recibe como parametro los datos ingresados con anterioridad."
   ]
  },
  {
   "cell_type": "code",
   "execution_count": null,
   "metadata": {
    "collapsed": true
   },
   "outputs": [],
   "source": [
    "Y.Forward(tiempo,velocidad)"
   ]
  },
  {
   "cell_type": "markdown",
   "metadata": {},
   "source": [
    "Para el movimiento hacia atras tenemos **Reverse(tiempo, velocidad)**."
   ]
  },
  {
   "cell_type": "code",
   "execution_count": null,
   "metadata": {
    "collapsed": true
   },
   "outputs": [],
   "source": [
    "Y.Reverse(tiempo, velocidad)"
   ]
  },
  {
   "cell_type": "markdown",
   "metadata": {},
   "source": [
    "Para controlar el movimiento de las ruedaz hacia adelante tenemos **ForwardMotorL(tiempo,velocidad)** y **ForwardMotorR(tiempo,velocidad)**."
   ]
  },
  {
   "cell_type": "code",
   "execution_count": null,
   "metadata": {},
   "outputs": [],
   "source": [
    "Y.ForwardMotorL(tiempo,velocidad) # Motor izquierdo"
   ]
  },
  {
   "cell_type": "code",
   "execution_count": null,
   "metadata": {
    "collapsed": true
   },
   "outputs": [],
   "source": [
    "Y.ForwardMotorR(tiempo,velocidad) # Motor derecho"
   ]
  },
  {
   "cell_type": "markdown",
   "metadata": {},
   "source": [
    "Para controlar el movimiento de las ruedaz hacia atras tenemos **ReverseMotorL(tiempo,velocidad)** y **ReverseMotorR(tiempo,velocidad)**."
   ]
  },
  {
   "cell_type": "code",
   "execution_count": null,
   "metadata": {
    "collapsed": true
   },
   "outputs": [],
   "source": [
    "Y.ReverseMotorL(tiempo,velocidad) # Motor izquierdo"
   ]
  },
  {
   "cell_type": "code",
   "execution_count": null,
   "metadata": {},
   "outputs": [],
   "source": [
    "Y.ReverseMotorR(tiempo,velocidad) # Motor derecho"
   ]
  },
  {
   "cell_type": "markdown",
   "metadata": {},
   "source": [
    "### C. Implementación:\n",
    "Podemos implementar el codigo en una sola función (al igual que en matemáticas) en el caso de python se usa la palabra clave **def** y al lado del nombre de la función."
   ]
  },
  {
   "cell_type": "code",
   "execution_count": null,
   "metadata": {
    "collapsed": true
   },
   "outputs": [],
   "source": [
    "# Construye tu software aqui!"
   ]
  },
  {
   "cell_type": "markdown",
   "metadata": {},
   "source": [
    "Una función puede ser llamada desde cualquier parte del código si está previamente definida."
   ]
  },
  {
   "cell_type": "markdown",
   "metadata": {},
   "source": [
    "### D. Pruebas:\n",
    "Después de codificar las actividades y/o procesos en la la herramienta computacional seleccionada, es necesario realizar la debidas pruebas que garanticen el correcto funcionamiento del programa construido bajo un conjunto de situaciones posibles a las que se pueda enfrentar. \n",
    "\n",
    "**Tarea**: Define un conjunto de datos de prueba para mostrar el funcionamiento del software."
   ]
  },
  {
   "cell_type": "markdown",
   "metadata": {},
   "source": [
    "## 5. ENTREGABLES\n",
    "\n",
    "1. Codigo del software.\n",
    "2. Conjunto de datos de pruebas del software.\n",
    "3. Análisis del Ciclo de vida de Software.Este análisis lo puede realizar dentro del mismo código haciendo uso del\n",
    "caracter numeral, utilizado para hacer los respectivos comentarios."
   ]
  }
 ],
 "metadata": {
  "kernelspec": {
   "display_name": "Python 3",
   "language": "python",
   "name": "python3"
  },
  "language_info": {
   "codemirror_mode": {
    "name": "ipython",
    "version": 3
   },
   "file_extension": ".py",
   "mimetype": "text/x-python",
   "name": "python",
   "nbconvert_exporter": "python",
   "pygments_lexer": "ipython3",
   "version": "3.7.0"
  }
 },
 "nbformat": 4,
 "nbformat_minor": 2
}
