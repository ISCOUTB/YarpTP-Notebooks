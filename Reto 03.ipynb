{
 "cells": [
  {
   "cell_type": "markdown",
   "metadata": {},
   "source": [
    "# Tercer reto - Estructuras de control iterativas"
   ]
  },
  {
   "cell_type": "markdown",
   "metadata": {},
   "source": [
    "## 1. Contexto\n",
    "\n",
    "Ahora que Juan logró controlar los movimientos de Kevi, el puede recoger muchos mas frutos. Pero, se encontró con un inconveniente, Kevi solo puede realizar un movimiento por ejecución, Juan necesita agregar la funcionalidad de realizar más de una tarea sin que el software para controlar los movimientos de Kevi deje de funcionar. Ademas, Juan necesita que Kevi tenga la función automatizada de ir a recoger los frutos, llevarlos a la bodega y regresar a la casa cuantas veces lo requiera.\n",
    "\n",
    "## 2. Resultado esperado\n",
    "\n",
    "Kevi debe ejecuar varios movimientos y debe tener la funcionalidad automatizada de moverse hacia el huerto, luego hacia la bodega y por ultimo regresar a la casa.\n",
    "\n",
    "## 3. Resultados de aprendizaje\n",
    " \n",
    " * Aprender sobre el uso de estructuras de control iterativas. \n",
    "\n",
    "## 4. Historias de usuario\n",
    "\n",
    "* HU05: realizar movimientos sin finalizar la ejecución\n",
    "    - Como Kevi\n",
    "    - Quiero moverme hacia una dirección determinada sin finalizar la ejecución una cantidad x de segundos\n",
    "    - Para alcanzar un objetivo\n",
    "* HU06: movimiento triangular\n",
    "    - Como Kevi\n",
    "    - Quiero moverme automaticamente hacia adelante, girar 135° grados, moverse hacia adelante nuevamente, girar 135° y moverme de nuevo la cantidad x de segundos\n",
    "    - Para regresar a mi punto de origen\n",
    "    \n",
    "## 5. Datos, información, estructuras repetitivas y estructuras de datos\n",
    "\n",
    "### Procedimiento para definir iteradores:\n",
    "\n",
    "para definir estructuras iterativas, las cuales nos permitiran ejecutar un mismo código, de manera repetida, mientras se cumpla una condición, tenemos el bucle **while** y el bucle **for**.\n",
    "\n",
    "**while**: Ejecuta una misma acción mientras que una determinada condición se cumpla."
   ]
  },
  {
   "cell_type": "code",
   "execution_count": null,
   "metadata": {
    "collapsed": true
   },
   "outputs": [],
   "source": [
    "while condicion:\n",
    "    \n",
    "    # Bloque de sentencias a iterar.\n",
    "    "
   ]
  },
  {
   "cell_type": "markdown",
   "metadata": {},
   "source": [
    "**for**: Repite una acción un numero predeterminado de veces."
   ]
  },
  {
   "cell_type": "code",
   "execution_count": null,
   "metadata": {
    "collapsed": true
   },
   "outputs": [],
   "source": [
    "for variable in elemento_iterable:\n",
    "    \n",
    "    # Bloque de sentencias a iterar.\n",
    "    "
   ]
  },
  {
   "cell_type": "markdown",
   "metadata": {},
   "source": [
    "## 6. Estrategia de solución:\n",
    "A continuación damos solución al problema teniendo en cuenta las etapas necesarias para el Ciclo de vida de Software\n",
    "\n",
    "### A. Análisis:\n",
    "En esta etapa se debe comprender de forma detallada cual es la problemática a resolver, comprobando el dominio o contexto en el cual se encuentra dicho problema. Al realizar la síntesis de las estructuras de datos y los requerimiento funcionales se está obteniendo la información necesaria y suficiente para afrontar su respectiva solución.\n",
    "\n",
    "### B. Diseño:\n",
    "Después de obtener la información necesaria para solucionar la problemática a resolver, se debe especificar las estrategias para dar una solución eficiente.\n",
    "\n",
    "A continuación se encuentran el conjunto de actividades para dar solución al problema planteado."
   ]
  },
  {
   "cell_type": "code",
   "execution_count": null,
   "metadata": {
    "collapsed": true
   },
   "outputs": [],
   "source": [
    "# como se menciono en un unicio, haremos uso del ejercicio realizacio en la leccion 2.\n",
    "\n",
    "Y = YarpTp()\n",
    "\n",
    "print(\"--- TABLERO DE CONTROL ---\")\n",
    "print(\"(W) Mover hacia adelante.\")\n",
    "print(\"(S) Mover hacia atras.\")\n",
    "print(\"(D) Mover hacia la derecha.\")\n",
    "print(\"(A) Mover hacia la izquierda.\")\n",
    "print(\"--------------------------\")\n",
    "\n",
    "direccion = input(\"Ingrese la dirección de desplazamiento:\")\n",
    "\n",
    "tiempo = input(\"Ingrese el tiempo de desplazamiento:\")\n",
    "\n",
    "if direccion == \"W\" or direccion == \"w\":\n",
    "\n",
    "    Y.Forward(tiempo)\n",
    "\n",
    "elif direccion == \"S\" or direccion == \"s\":\n",
    "\n",
    "    Y.Reverse(tiempo)\n",
    "\n",
    "elif direccion == \"D\" or direccion == \"d\":\n",
    "\n",
    "    Y.TurnRight(tiempo)\n",
    "\n",
    "elif direccion == \"A\"  or  direccion == \"a\":\n",
    "\n",
    "    Y.TurnLeft(tiempo)\n",
    "\n",
    "else:\n",
    "\n",
    "    print(\"Error: Ingrese una dirección valida.\")"
   ]
  },
  {
   "cell_type": "markdown",
   "metadata": {},
   "source": [
    "Después de definir el componente previamente desarrollado se procederá a las operaciones teniendo en cuenta el enunciado:\n",
    "\n",
    ">  realizar un movimiento sin que el programa finalice. Ademas, agregar la funcionalidad de que el robot se mueva de forma triangular.\n",
    "\n",
    "Para la realización de esta tarea haremos uso de los componentes de la libreria de YarpTp."
   ]
  },
  {
   "cell_type": "code",
   "execution_count": null,
   "metadata": {
    "collapsed": true
   },
   "outputs": [],
   "source": [
    "from YarpTp import YarpTp\n",
    "Y = YarpTp()"
   ]
  },
  {
   "cell_type": "markdown",
   "metadata": {},
   "source": [
    "Para el movimiento hacia adelante tenemos **Forward(tiempo, velocidad)** que recibe como parametro los datos ingresados con anterioridad."
   ]
  },
  {
   "cell_type": "code",
   "execution_count": null,
   "metadata": {
    "collapsed": true
   },
   "outputs": [],
   "source": [
    "Y.Forward(tiempo,velocidad)"
   ]
  },
  {
   "cell_type": "markdown",
   "metadata": {},
   "source": [
    "Para el movimiento trigualar tenemos los metodos para controlar el movimiento de las ruedaz hacia adelante **ForwardMotorL(tiempo,velocidad)**."
   ]
  },
  {
   "cell_type": "code",
   "execution_count": null,
   "metadata": {
    "collapsed": true
   },
   "outputs": [],
   "source": [
    "Y.ForwardMotorL(tiempo,velocidad) # Motor izquierdo"
   ]
  },
  {
   "cell_type": "markdown",
   "metadata": {},
   "source": [
    "y el metodo **ForwardMotorR(tiempo,velocidad)**."
   ]
  },
  {
   "cell_type": "code",
   "execution_count": null,
   "metadata": {},
   "outputs": [],
   "source": [
    "Y.ForwardMotorR(tiempo,velocidad) # Motor derecho"
   ]
  },
  {
   "cell_type": "markdown",
   "metadata": {},
   "source": [
    "Tambien, los metodos controlar el movimiento de las ruedaz hacia atras **ReverseMotorL(tiempo,velocidad)**."
   ]
  },
  {
   "cell_type": "code",
   "execution_count": null,
   "metadata": {
    "collapsed": true
   },
   "outputs": [],
   "source": [
    "Y.ReverseMotorL(tiempo,velocidad) # Motor izquierdo"
   ]
  },
  {
   "cell_type": "markdown",
   "metadata": {},
   "source": [
    "y el metodo **ReverseMotorR(tiempo,velocidad)**."
   ]
  },
  {
   "cell_type": "code",
   "execution_count": null,
   "metadata": {},
   "outputs": [],
   "source": [
    "Y.ReverseMotorR(tiempo,velocidad) # Motor derecho"
   ]
  },
  {
   "cell_type": "markdown",
   "metadata": {},
   "source": [
    "### C. Implementación:\n",
    "Podemos implementar el codigo en una sola función (al igual que en matemáticas) en el caso de python se usa la palabra clave **def** y al lado del nombre de la función."
   ]
  },
  {
   "cell_type": "code",
   "execution_count": null,
   "metadata": {},
   "outputs": [],
   "source": [
    "from YarpTp import YarpTp\n",
    "\n",
    "def reto2():\n",
    "    \n",
    "    Y = YarpTp()\n",
    "    print(\" \")\n",
    "    print(\"--- TABLERO DE CONTROL ---\")\n",
    "    print(\"(W) Mover hacia adelante.\")\n",
    "    print(\"(S) Mover hacia atras.\")\n",
    "    print(\"(D) Mover hacia la derecha.\")\n",
    "    print(\"(A) Mover hacia la izquierda.\")\n",
    "    print(\"--------------------------\")\n",
    "    \n",
    "    direccion = input(\"Ingrese la dirección de desplazamiento:\")\n",
    "\n",
    "    tiempo = input(\"Ingrese el tiempo de desplazamiento:\")\n",
    "    \n",
    "    if direccion == \"W\" or direccion == \"w\":\n",
    "        \n",
    "        Y.Forward(tiempo)\n",
    "    \n",
    "    elif direccion == \"S\" or direccion == \"s\":\n",
    "        \n",
    "        Y.Reverse(tiempo)\n",
    "        \n",
    "    elif direccion == \"D\" or direccion == \"d\":\n",
    "        \n",
    "        Y.TurnRight(tiempo)\n",
    "        \n",
    "    elif direccion == \"A\" or direccion == \"a\":\n",
    "        \n",
    "        Y.TurnLeft(tiempo)\n",
    "    else:\n",
    "        \n",
    "        print(\"Error: Ingrese una dirección valida.\")"
   ]
  },
  {
   "cell_type": "markdown",
   "metadata": {},
   "source": [
    "De esta manera resolvemos la **HU01**:"
   ]
  },
  {
   "cell_type": "code",
   "execution_count": null,
   "metadata": {},
   "outputs": [],
   "source": [
    "def reto3():\n",
    "     \n",
    "    while(True):\n",
    "        \n",
    "        reto2()\n",
    "        \n",
    "reto3()"
   ]
  },
  {
   "cell_type": "markdown",
   "metadata": {
    "collapsed": true
   },
   "source": [
    "**Nota:** una función puede ser llamada desde cualquier parte del código si está previamente definida."
   ]
  },
  {
   "cell_type": "markdown",
   "metadata": {},
   "source": [
    "Para la solución de la historia de usuario **HU02** tenemos la siguiente implementación:"
   ]
  },
  {
   "cell_type": "code",
   "execution_count": null,
   "metadata": {},
   "outputs": [],
   "source": [
    "from YarpTp import YarpTp\n",
    "\n",
    "Y = YarpTp()\n",
    "print(\"------ MOVIMIENTO TRIANGULAR ------\")\n",
    "iteraciones = input(\"Ingrese el numero de veces que Kevi irá al huerto, a la bodega y de regreso a su punto de origen:\")\n",
    "tiempo = input(\"Ingrese el tiempo de desplazamiento:\")\n",
    "\n",
    "for i in range(iteraciones):\n",
    "    for i in range(3):\n",
    "        Y.Forward(tiempo)\n",
    "        Y.ForwardMotorR(tiempo)"
   ]
  },
  {
   "cell_type": "markdown",
   "metadata": {},
   "source": [
    "### D. Pruebas:\n",
    "Después de codificar las actividades y/o procesos en la la herramienta computacional seleccionada, es necesario realizar la debidas pruebas que garanticen el correcto funcionamiento del programa construido bajo un conjunto de situaciones posibles a las que se pueda enfrentar."
   ]
  },
  {
   "cell_type": "markdown",
   "metadata": {
    "collapsed": true
   },
   "source": [
    "- ### Realizar movimientos sin finalizar la ejecución\n",
    "\n",
    "<table>\n",
    "<tr>\n",
    "<th>Dirección de desplazamiento</th>\n",
    "<th>Tiempos de desplazamiento(sg)</th>\n",
    "</tr>\n",
    "<tr>\n",
    "<td>W</td>\n",
    "<td>1.0</td>\n",
    "</tr>\n",
    "<tr>\n",
    "<td>S</td>\n",
    "<td>1.0</td>\n",
    "</tr>\n",
    "<tr>\n",
    "<td>D</td>\n",
    "<td>3.0</td>\n",
    "</tr>\n",
    "<tr>\n",
    "<td>A</td>\n",
    "<td>3.0</td>\n",
    "</tr>\n",
    "</table>\n",
    "<br>\n",
    "\n",
    "- ### Movimiento triangular\n",
    "\n",
    "<table>\n",
    "<tr>\n",
    "<th>Numero de iteraciones</th>\n",
    "<th>Tiempos de desplazamiento(sg)</th>\n",
    "</tr>\n",
    "<tr>\n",
    "<td>4</td>\n",
    "<td>2.5</td>\n",
    "</tr>\n",
    "<tr>\n",
    "<td>3</td>\n",
    "<td>1</td>\n",
    "</tr>\n",
    "<tr>\n",
    "<td>2</td>\n",
    "<td>1.5</td>\n",
    "</tr>\n",
    "</table>"
   ]
  }
 ],
 "metadata": {
  "kernelspec": {
   "display_name": "Python 3",
   "language": "python",
   "name": "python3"
  },
  "language_info": {
   "codemirror_mode": {
    "name": "ipython",
    "version": 3
   },
   "file_extension": ".py",
   "mimetype": "text/x-python",
   "name": "python",
   "nbconvert_exporter": "python",
   "pygments_lexer": "ipython3",
   "version": "3.7.0"
  }
 },
 "nbformat": 4,
 "nbformat_minor": 2
}
