{
 "cells": [
  {
   "cell_type": "markdown",
   "metadata": {},
   "source": [
    "# Primer reto - Uso de variables"
   ]
  },
  {
   "cell_type": "markdown",
   "metadata": {},
   "source": [
    "## 1. Contexto\n",
    "\n",
    "Juan vive en una finca y tiene un arbol de frutas, el sueño de Juan es un amigo que le ayude a recoger las frutas cuando caen y se los traiga a sus manos. Juan construyó un robot y le puso de nombre Kevi.\n",
    "\n",
    "Juan usa YarpTp para controlar a Kevi, pero tiene una duda, ¿Cómo se debe programar a Kevi para que busque la fruta y regrese al punto de origen? Mira la siguiente gráfica para tener más información.\n",
    "\n",
    "## 2. Resultado esperado\n",
    "\n",
    "Lograr que Kevi avance de un punto A a un punto B en línea recta.\n",
    "\n",
    "\n",
    "## 3. Resultados de aprendizaje\n",
    "\n",
    "* Aprender sobre uso de variables y expresiones.\n",
    "\n",
    "\n",
    "## 4. Historias de usuario\n",
    "\n",
    "* HU01: Moverse hacia adelante\n",
    "    - Como Kevi\n",
    "    - Quiero moverme hacia adelante una cantidad x de segundos\n",
    "    - Para alcanzar un objetivo\n",
    "* HUS02: Darse vuelta y regresar x segundos\n",
    "    - Como Kevi\n",
    "    - Quiero girar 180 grados y moverme de nuevo la cantidad x de segundos\n",
    "    - Para regresar a mi punto de origen\n",
    " \n",
    " \n",
    "##  5. Datos, información, variables y estructuras de datos\n",
    "\n",
    "Para dar solución a este caso, debemos analizar los datos a utilizar, es conveniente seleccionar los datos en (datos de entrada y datos de salida):\n",
    "\n",
    "### Datos de entrada: \n",
    "\n",
    "* Tiempo de desplazamiento.\n",
    "* Velocidad de desplazamiento.\n",
    "* dirección de desplazamiento.\n",
    "\n",
    "Se consideran datos de entrada porque es información necesaria para realizar los procedimientos que permiten entregar la solución esperada o el resultado esperado. Para poder manipular estos datos en un Algoritmo o en un Programa de computador, es necesario definir las variables en donde se almacenarán los datos.\n",
    "\n",
    "### Procedimiento para definir variables:\n",
    "1. Tipo de Datos (numéricos o alfanumérico)\n",
    "2. Defina los nombres de cada una de las variables (tenga en cuenta las normas para nombrar variables)\n",
    "    #### Normas para nombres de variables\n",
    "    * No espacios en blanco\n",
    "    * No caracteres extraños (* + ! = ? ¡ ? ~ ^ { })\n",
    "    * Use nombres que se relacionen con el dato que almacena\n",
    "    * Puede utilizar letras y números\n",
    "\n",
    "## 6. Estrategia de solución:\n",
    "A continuación damos solución al problema teniendo en cuenta las etapas necesarias para el Ciclo de vida de Software\n",
    "\n",
    "### A. Análisis:\n",
    "En esta etapa se debe comprender de forma detallada cual es la problemática a resolver, comprobando el dominio o contexto en el cual se encuentra dicho problema. Al realizar la síntesis de las estructuras de datos y los requerimiento funcionales se está obteniendo la información necesaria y suficiente para afrontar su respectiva solución.\n",
    "\n",
    "### B. Diseño:\n",
    "Después de obtener la información necesaria para solucionar la problemática a resolver, se debe especificar las estrategias para dar una solución eficiente.\n",
    "\n",
    "A continuación se encuentran el conjunto de actividades para dar solución al problema planteado.\n"
   ]
  },
  {
   "cell_type": "code",
   "execution_count": null,
   "metadata": {},
   "outputs": [],
   "source": [
    "# El dato digitado es almacenado en la variable tiempo.\n",
    "\n",
    "tiempo = input(\"Ingrese el tiempo de desplazamiento:\")\n"
   ]
  },
  {
   "cell_type": "code",
   "execution_count": null,
   "metadata": {
    "collapsed": true
   },
   "outputs": [],
   "source": [
    "# Se almacena la velocidad de desplazamiento en la variable velocidad.\n",
    "\n",
    "velocidad = input(\"Ingrese la velocidad de desplazamiento:\")\n"
   ]
  },
  {
   "cell_type": "markdown",
   "metadata": {},
   "source": [
    "Después de capturar los datos de entrada y almacenados en sus respectivas variables se procederá a las operaciones teniendo en cuenta el enunciado:\n",
    "\n",
    ">  En determinado tiempo el robot gira 180° y vuelve a avanzar.\n",
    "\n",
    "Para la realización de esta tarea haremos uso de los componentes de la libreria de YarpTp."
   ]
  },
  {
   "cell_type": "code",
   "execution_count": null,
   "metadata": {
    "collapsed": true
   },
   "outputs": [],
   "source": [
    "from YarpTp import YarpTp\n",
    "Y = YarpTp()"
   ]
  },
  {
   "cell_type": "markdown",
   "metadata": {},
   "source": [
    "Para el movimiento hacia adelante tenemos **Forward(tiempo, velocidad)** que recibe como parametro los datos ingresados con anterioridad.\n"
   ]
  },
  {
   "cell_type": "code",
   "execution_count": null,
   "metadata": {
    "collapsed": true
   },
   "outputs": [],
   "source": [
    "Y.Forward(tiempo,velocidad)"
   ]
  },
  {
   "cell_type": "markdown",
   "metadata": {},
   "source": [
    "para giros de 90° hacia la derecha **TurnRight(tiempo)**."
   ]
  },
  {
   "cell_type": "code",
   "execution_count": null,
   "metadata": {
    "collapsed": true
   },
   "outputs": [],
   "source": [
    "Y.TurnRight(tiempo)"
   ]
  },
  {
   "cell_type": "markdown",
   "metadata": {},
   "source": [
    "para giros de 90° hacia la izquierda tenemos **TurnLeft(tiempo)**"
   ]
  },
  {
   "cell_type": "code",
   "execution_count": null,
   "metadata": {},
   "outputs": [],
   "source": [
    "Y.TurnLeft(tiempo)"
   ]
  },
  {
   "cell_type": "markdown",
   "metadata": {},
   "source": [
    "### C. Implementación:"
   ]
  },
  {
   "cell_type": "markdown",
   "metadata": {},
   "source": [
    "De esa manera podemos resover la historia de usuario **HUS01**:"
   ]
  },
  {
   "cell_type": "code",
   "execution_count": null,
   "metadata": {},
   "outputs": [],
   "source": [
    "Y = YarpTp()\n",
    "tiempo = input(\"Ingrese el tiempo de desplazamiento:\")\n",
    "velocidad = input(\"Ingrese la velocidad de desplazamiento:\")\n",
    "Y.Forward(tiempo,velocidad)"
   ]
  },
  {
   "cell_type": "markdown",
   "metadata": {},
   "source": [
    "Y de esta manera resolvemos la historia de usuairo **HUS02**:"
   ]
  },
  {
   "cell_type": "code",
   "execution_count": null,
   "metadata": {},
   "outputs": [],
   "source": [
    "tiempo_giro = input(\"Ingrese el tiempo de giro:\")\n",
    "Y.TurnRight(tiempo_giro)\n",
    "Y.Forward(tiempo,velocidad)"
   ]
  },
  {
   "cell_type": "markdown",
   "metadata": {},
   "source": [
    "Entonces, la implementación completa de este reto seria:"
   ]
  },
  {
   "cell_type": "code",
   "execution_count": 12,
   "metadata": {},
   "outputs": [
    {
     "name": "stdout",
     "output_type": "stream",
     "text": [
      "Ingrese el tiempo de desplazamiento:1\n",
      "Ingrese la velocidad de desplazamiento:80\n",
      "Ingrese el tiempo de giro:3.2\n"
     ]
    }
   ],
   "source": [
    "from YarpTp import YarpTp\n",
    "\n",
    "Y = YarpTp()\n",
    "tiempo = input(\"Ingrese el tiempo de desplazamiento:\")\n",
    "velocidad = input(\"Ingrese la velocidad de desplazamiento:\")\n",
    "tiempo_giro = input(\"Ingrese el tiempo de giro:\")\n",
    "Y.Forward(tiempo,velocidad)\n",
    "Y.TurnRight(tiempo_giro)\n",
    "Y.Forward(tiempo,velocidad)\n"
   ]
  },
  {
   "cell_type": "markdown",
   "metadata": {},
   "source": [
    "\n",
    "<center><video src=\"leccion.mp4\" width=\"420\" height=\"400\" Controls muted></video></center>"
   ]
  },
  {
   "cell_type": "markdown",
   "metadata": {},
   "source": [
    "Una función puede ser llamada desde cualquier parte del código si está previamente definida."
   ]
  },
  {
   "cell_type": "markdown",
   "metadata": {},
   "source": [
    "### D. Pruebas:\n",
    "Después de codificar las actividades y/o procesos en la la herramienta computacional seleccionada, es necesario realizar la debidas pruebas que garanticen el correcto funcionamiento del programa construido bajo un conjunto de situaciones posibles a las que se pueda enfrentar."
   ]
  },
  {
   "cell_type": "markdown",
   "metadata": {
    "collapsed": true
   },
   "source": [
    "<table>\n",
    "<tr>\n",
    "<th>Datos de Velocidad</th>\n",
    "<th>Tiempos de desplazamiento(sg)</th>\n",
    "<th>Tiempos de giro(sg)</th>\n",
    "</tr>\n",
    "<tr>\n",
    "<td>40</td>\n",
    "<td>2.0</td>\n",
    "<td>1.0</td>\n",
    "</tr>\n",
    "<tr>\n",
    "<td>70</td>\n",
    "<td>1.0</td>\n",
    "<td>0.8</td>\n",
    "</tr>\n",
    "<tr>\n",
    "<td>100</td>\n",
    "<td>0.5</td>\n",
    "<td>0.5</td>\n",
    "</tr>\n",
    "<tr>\n",
    "<td>80</td>\n",
    "<td>2.0</td>\n",
    "<td>3.2</td>\n",
    "</tr>\n",
    "</table>\n"
   ]
  }
 ],
 "metadata": {
  "kernelspec": {
   "display_name": "Python 3",
   "language": "python",
   "name": "python3"
  },
  "language_info": {
   "codemirror_mode": {
    "name": "ipython",
    "version": 3
   },
   "file_extension": ".py",
   "mimetype": "text/x-python",
   "name": "python",
   "nbconvert_exporter": "python",
   "pygments_lexer": "ipython3",
   "version": "3.7.0"
  }
 },
 "nbformat": 4,
 "nbformat_minor": 2
}
